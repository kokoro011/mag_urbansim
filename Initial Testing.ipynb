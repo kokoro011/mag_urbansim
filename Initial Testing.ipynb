{
 "metadata": {
  "name": "UrbanSim hacking"
 },
 "nbformat": 3,
 "nbformat_minor": 0,
 "worksheets": [
  {
   "cells": [
    {
     "cell_type": "code",
     "collapsed": false,
     "input": [
      "# loosely following UrbanSim simulation framework documentation:\n",
      "# http://synthicity.github.io/urbansim/sim/index.html\n",
      "\n",
      "# imports\n",
      "import pandas as pd\n",
      "import urbansim.sim.simulation as sim\n",
      "import pandas.io.sql as pdsql\n",
      "import pyodbc"
     ],
     "language": "python",
     "metadata": {},
     "outputs": [],
     "prompt_number": 2
    },
    {
     "cell_type": "code",
     "collapsed": false,
     "input": [
      "# fake dataframe, add to the simulation\n",
      "df = pd.DataFrame({'a': [1, 2, 3]})\n",
      "sim.add_table('my_table', df)\n",
      "\n",
      "# get some tables from SQL\n",
      "# create connection object\n",
      "#c = pyodbc.connect('DRIVER={SQL Server};SERVER=SQL\\AZSMART;DATABASE=AZSMART_V5_zone;UID=AZSMARTExport;PWD=thebigone')\n",
      "c = pyodbc.connect('DRIVER={SQL Server};SERVER=SQL\\AZSMART;DATABASE=AZSMART_V5_zone;Trusted_Connection=yes')\n",
      "\n",
      "# get data\n",
      "households = pdsql.read_frame('select * from basedata_zaResults_d2_5_households', c)\n",
      "#persons = pdsql.read_frame('select * from basedata_zaResults_d2_5_persons', c)\n",
      "growth_rate = pdsql.read_frame('select * from jesse_simple_growth_rate', c)\n",
      "\n",
      "# set indexes\n",
      "growth_rate.set_index(keys='year', inplace=True)\n",
      "households.set_index(keys='household_id', inplace=True)\n",
      "#persons.set_index(keys='person_id', inplace=True)\n",
      "\n",
      "# add tables to simulation object\n",
      "sim.add_table('households', households)\n",
      "#sim.add_table('persons', persons)\n",
      "sim.add_table('growth_rate', growth_rate)"
     ],
     "language": "python",
     "metadata": {},
     "outputs": [
      {
       "output_type": "pyout",
       "prompt_number": 3,
       "text": [
        "<urbansim.sim.simulation.DataFrameWrapper at 0xd2d80b8>"
       ]
      }
     ],
     "prompt_number": 3
    },
    {
     "cell_type": "code",
     "collapsed": false,
     "input": [
      "# just import and run a simple transition model for a specific year\n",
      "#from urbansim.models.transition import TabularGrowthRateTransition\n",
      "#tm = TabularGrowthRateTransition(growth_rate, 'growth_rate')\n",
      "#updated_hh, added_hh_idx, copied_hh_idx, removed_hh_idx = tm(households, 2019)\n",
      "#print len(households)\n",
      "#print len(updated_hh)\n",
      "#print len(copied_hh_idx)\n",
      "#print len(removed_hh_idx)"
     ],
     "language": "python",
     "metadata": {},
     "outputs": [],
     "prompt_number": 61
    },
    {
     "cell_type": "code",
     "collapsed": false,
     "input": [
      "# add a simple 'print_year' model to the simulation\n",
      "#@sim.model('print_year')\n",
      "#def print_year(year):\n",
      "#    print '*** the year is {} ***'.format(year)\n"
     ],
     "language": "python",
     "metadata": {},
     "outputs": [],
     "prompt_number": 65
    },
    {
     "cell_type": "code",
     "collapsed": false,
     "input": [
      "from urbansim.models.transition import TabularGrowthRateTransition\n",
      "def simple_transition(tbl, rates_table, year):\n",
      "    transition = TabularGrowthRateTransition(rates_table, 'growth_rate')\n",
      "    df = tbl.to_frame(tbl.local_columns)\n",
      "\n",
      "    print \"%d agents before transition\" % len(df.index)\n",
      "    df, added, copied, removed = transition.transition(df, year)\n",
      "    print \"%d agents after transition\" % len(df.index)\n",
      "    \n",
      "    sim.add_table(tbl.name, df)\n",
      "\n",
      "# add a transition model to the simulation\n",
      "@sim.model('household_transition')\n",
      "def household_transition(households, year):\n",
      "    return simple_transition(households, growth_rate, year)"
     ],
     "language": "python",
     "metadata": {},
     "outputs": [],
     "prompt_number": 11
    },
    {
     "cell_type": "code",
     "collapsed": false,
     "input": [
      "# first try run sim\n",
      "sim.run(['household_transition'], years=range(2011,2021))\n"
     ],
     "language": "python",
     "metadata": {},
     "outputs": [
      {
       "output_type": "stream",
       "stream": "stdout",
       "text": [
        "Running year 2011\n",
        "Running model 'household_transition'\n",
        "1476888 agents before transition"
       ]
      },
      {
       "output_type": "stream",
       "stream": "stdout",
       "text": [
        "\n",
        "1550732 agents after transition"
       ]
      },
      {
       "output_type": "stream",
       "stream": "stdout",
       "text": [
        "\n",
        "Running year 2012\n",
        "Running model 'household_transition'\n",
        "1550732 agents before transition"
       ]
      },
      {
       "output_type": "stream",
       "stream": "stdout",
       "text": [
        "\n",
        "1628269 agents after transition"
       ]
      },
      {
       "output_type": "stream",
       "stream": "stdout",
       "text": [
        "\n",
        "Running year 2013\n",
        "Running model 'household_transition'\n",
        "1628269 agents before transition"
       ]
      },
      {
       "output_type": "stream",
       "stream": "stdout",
       "text": [
        "\n",
        "1709682 agents after transition"
       ]
      },
      {
       "output_type": "stream",
       "stream": "stdout",
       "text": [
        "\n",
        "Running year 2014\n",
        "Running model 'household_transition'\n",
        "1709682 agents before transition"
       ]
      },
      {
       "output_type": "stream",
       "stream": "stdout",
       "text": [
        "\n",
        "1795166 agents after transition"
       ]
      },
      {
       "output_type": "stream",
       "stream": "stdout",
       "text": [
        "\n",
        "Running year 2015\n",
        "Running model 'household_transition'\n",
        "1795166 agents before transition"
       ]
      },
      {
       "output_type": "stream",
       "stream": "stdout",
       "text": [
        "\n",
        "1884924 agents after transition"
       ]
      },
      {
       "output_type": "stream",
       "stream": "stdout",
       "text": [
        "\n",
        "Running year 2016\n",
        "Running model 'household_transition'\n",
        "1884924 agents before transition"
       ]
      },
      {
       "output_type": "stream",
       "stream": "stdout",
       "text": [
        "\n",
        "1998019 agents after transition"
       ]
      },
      {
       "output_type": "stream",
       "stream": "stdout",
       "text": [
        "\n",
        "Running year 2017\n",
        "Running model 'household_transition'\n",
        "1998019 agents before transition"
       ]
      },
      {
       "output_type": "stream",
       "stream": "stdout",
       "text": [
        "\n",
        "2137880 agents after transition"
       ]
      },
      {
       "output_type": "stream",
       "stream": "stdout",
       "text": [
        "\n",
        "Running year 2018\n",
        "Running model 'household_transition'\n",
        "2137880 agents before transition"
       ]
      },
      {
       "output_type": "stream",
       "stream": "stdout",
       "text": [
        "\n",
        "2308910 agents after transition"
       ]
      },
      {
       "output_type": "stream",
       "stream": "stdout",
       "text": [
        "\n",
        "Running year 2019\n",
        "Running model 'household_transition'\n",
        "2308910 agents before transition"
       ]
      },
      {
       "output_type": "stream",
       "stream": "stdout",
       "text": [
        "\n",
        "2516712 agents after transition"
       ]
      },
      {
       "output_type": "stream",
       "stream": "stdout",
       "text": [
        "\n",
        "Running year 2020\n",
        "Running model 'household_transition'\n",
        "2516712 agents before transition"
       ]
      },
      {
       "output_type": "stream",
       "stream": "stdout",
       "text": [
        "\n",
        "2768383 agents after transition"
       ]
      },
      {
       "output_type": "stream",
       "stream": "stdout",
       "text": [
        "\n"
       ]
      }
     ],
     "prompt_number": 12
    },
    {
     "cell_type": "code",
     "collapsed": false,
     "input": [],
     "language": "python",
     "metadata": {},
     "outputs": []
    },
    {
     "cell_type": "code",
     "collapsed": false,
     "input": [],
     "language": "python",
     "metadata": {},
     "outputs": [],
     "prompt_number": 64
    },
    {
     "cell_type": "code",
     "collapsed": false,
     "input": [],
     "language": "python",
     "metadata": {},
     "outputs": [],
     "prompt_number": 64
    },
    {
     "cell_type": "code",
     "collapsed": false,
     "input": [],
     "language": "python",
     "metadata": {},
     "outputs": [],
     "prompt_number": 64
    },
    {
     "cell_type": "code",
     "collapsed": false,
     "input": [],
     "language": "python",
     "metadata": {},
     "outputs": [],
     "prompt_number": 2
    },
    {
     "cell_type": "code",
     "collapsed": false,
     "input": [],
     "language": "python",
     "metadata": {},
     "outputs": [],
     "prompt_number": 64
    },
    {
     "cell_type": "code",
     "collapsed": false,
     "input": [],
     "language": "python",
     "metadata": {},
     "outputs": [],
     "prompt_number": 64
    },
    {
     "cell_type": "code",
     "collapsed": false,
     "input": [],
     "language": "python",
     "metadata": {},
     "outputs": [],
     "prompt_number": 64
    },
    {
     "cell_type": "code",
     "collapsed": false,
     "input": [],
     "language": "python",
     "metadata": {},
     "outputs": [],
     "prompt_number": 64
    },
    {
     "cell_type": "code",
     "collapsed": false,
     "input": [],
     "language": "python",
     "metadata": {},
     "outputs": [],
     "prompt_number": 64
    }
   ],
   "metadata": {}
  }
 ]
}